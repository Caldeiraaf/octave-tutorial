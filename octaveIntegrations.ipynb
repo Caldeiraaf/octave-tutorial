{
 "cells": [
  {
   "cell_type": "markdown",
   "metadata": {},
   "source": [
    "## Trapezoidal Rule\n",
    "\n",
    "Find the integration $\\int_a^b f(x) dx$, using trapezoidal rule."
   ]
  },
  {
   "cell_type": "code",
   "execution_count": 4,
   "metadata": {
    "collapsed": false
   },
   "outputs": [
    {
     "name": "stdout",
     "output_type": "stream",
     "text": [
      "trap =  0.33335\r\n"
     ]
    }
   ],
   "source": [
    "f = @(x) x.^2;\n",
    "a = 0; b = 1; n = 100;\n",
    "h = (b-a)/n;\n",
    "x = a:h:b;\n",
    "fx = f(x);\n",
    "trap = (2*sum(fx(2:n))+fx(1)+fx(n+1))*h/2"
   ]
  },
  {
   "cell_type": "code",
   "execution_count": 6,
   "metadata": {
    "collapsed": true
   },
   "outputs": [],
   "source": [
    "%plot gnuplot\n",
    "plot(x,fx)"
   ]
  },
  {
   "cell_type": "markdown",
   "metadata": {
    "collapsed": true
   },
   "source": [
    "### Try yourself\n",
    "\n",
    "Find the integration $\\int_a^b f(x) dx$, using simpson's rule."
   ]
  }
 ],
 "metadata": {
  "kernelspec": {
   "display_name": "Octave",
   "language": "octave",
   "name": "octave"
  },
  "language_info": {
   "file_extension": ".m",
   "help_links": [
    {
     "text": "MetaKernel Magics",
     "url": "https://github.com/calysto/metakernel/blob/master/metakernel/magics/README.md"
    }
   ],
   "mimetype": "text/x-octave",
   "name": "octave",
   "version": "0.16.1"
  }
 },
 "nbformat": 4,
 "nbformat_minor": 1
}
