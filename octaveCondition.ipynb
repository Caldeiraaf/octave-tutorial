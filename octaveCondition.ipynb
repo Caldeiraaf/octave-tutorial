{
 "cells": [
  {
   "cell_type": "markdown",
   "metadata": {},
   "source": [
    "The roots of quadratic equations $a x^2 + b x + c = 0$ are $  r = \\frac{-b \\pm \\sqrt{b^2 - 4ac}}{2a}$."
   ]
  },
  {
   "cell_type": "code",
   "execution_count": 2,
   "metadata": {
    "collapsed": false
   },
   "outputs": [
    {
     "name": "stdout",
     "output_type": "stream",
     "text": [
      "roots are positive and distinct\r\n"
     ]
    }
   ],
   "source": [
    "a=1; b=0; c=-3;\n",
    "d=b^2-4*a*c;\n",
    "if d>0\n",
    "    disp('roots are positive and distinct');\n",
    "elseif d==0\n",
    "    disp('roots are real and same');\n",
    "else\n",
    "    disp('roots are immaginary');\n",
    "end"
   ]
  },
  {
   "cell_type": "code",
   "execution_count": null,
   "metadata": {
    "collapsed": true
   },
   "outputs": [],
   "source": []
  }
 ],
 "metadata": {
  "kernelspec": {
   "display_name": "Octave",
   "language": "octave",
   "name": "octave"
  },
  "language_info": {
   "file_extension": ".m",
   "help_links": [
    {
     "text": "MetaKernel Magics",
     "url": "https://github.com/calysto/metakernel/blob/master/metakernel/magics/README.md"
    }
   ],
   "mimetype": "text/x-octave",
   "name": "octave",
   "version": "0.16.1"
  }
 },
 "nbformat": 4,
 "nbformat_minor": 1
}
